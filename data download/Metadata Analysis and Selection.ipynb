{
  "metadata": {
    "kernelspec": {
      "name": "python",
      "display_name": "Python (Pyodide)",
      "language": "python"
    },
    "language_info": {
      "codemirror_mode": {
        "name": "python",
        "version": 3
      },
      "file_extension": ".py",
      "mimetype": "text/x-python",
      "name": "python",
      "nbconvert_exporter": "python",
      "pygments_lexer": "ipython3",
      "version": "3.8"
    }
  },
  "nbformat_minor": 5,
  "nbformat": 4,
  "cells": [
    {
      "id": "0b23521f-749f-4f21-aae7-3fbc08584d69",
      "cell_type": "code",
      "source": "import pandas as pd\nimport numpy as np",
      "metadata": {
        "trusted": true
      },
      "outputs": [],
      "execution_count": null
    },
    {
      "id": "3cbd47d4-1e81-4b8b-a465-0b5b4be8f3ea",
      "cell_type": "markdown",
      "source": "# New Metadata Analysis",
      "metadata": {}
    },
    {
      "id": "ebfbad7b-37a4-42dc-8131-4fd2648ed5c7",
      "cell_type": "code",
      "source": "import os",
      "metadata": {
        "trusted": true
      },
      "outputs": [],
      "execution_count": null
    },
    {
      "id": "5e5692c4-cbe9-4306-8d93-b94212c6da71",
      "cell_type": "code",
      "source": "plates = pd.read_csv(\"../data/metadata/plate.csv.gz\")\nwells = pd.read_csv(\"../data/metadata/well.csv.gz\")\ncompound = pd.read_csv(\"../data/metadata/compound.csv.gz\")\ncrispr = pd.read_csv(\"../data/metadata/crispr.csv.gz\")\norf = pd.read_csv(\"../data/metadata/orf.csv.gz\")",
      "metadata": {
        "trusted": true
      },
      "outputs": [],
      "execution_count": null
    },
    {
      "id": "cd5724c1-fa83-4fb6-8c6f-f33b574e6028",
      "cell_type": "code",
      "source": "jump_moa = pd.read_csv(\"../data/metadata/JUMP-MOA_compound_metadata.tsv\",sep='\\t')\njump_target1_compound = pd.read_csv(\"../data/metadata/JUMP-Target-1_compound_metadata.tsv\",sep='\\t')\njump_target1_orf= pd.read_csv(\"../data/metadata/JUMP-Target-1_orf_metadata.tsv\",sep='\\t')\njump_target1_crispr = pd.read_csv(\"../data/metadata/JUMP-Target-1_crispr_metadata.tsv\",sep='\\t')\njump_target2 = pd.read_csv(\"../data/metadata/JUMP-Target-2_compound_metadata.tsv\",sep='\\t')",
      "metadata": {
        "trusted": true
      },
      "outputs": [],
      "execution_count": null
    },
    {
      "id": "0c6935e1-020e-4f27-b928-8510e560d51c",
      "cell_type": "code",
      "source": "plates.Metadata_PlateType.unique()",
      "metadata": {
        "trusted": true
      },
      "outputs": [],
      "execution_count": null
    },
    {
      "id": "b7f112f3-6f08-4a05-b241-d3e59164082b",
      "cell_type": "code",
      "source": "plates.query('Metadata_PlateType==\"TARGET2\"').groupby('Metadata_Source').size().sort_values()",
      "metadata": {
        "trusted": true
      },
      "outputs": [],
      "execution_count": null
    },
    {
      "id": "7484f7c7-8959-40ae-9a21-e5203a538fa5",
      "cell_type": "code",
      "source": "plates.query('Metadata_PlateType==\"TARGET1\"').groupby('Metadata_Source').size().sort_values()",
      "metadata": {
        "trusted": true
      },
      "outputs": [],
      "execution_count": null
    },
    {
      "id": "f75e58db-faee-46ca-8ddb-26b13e871abf",
      "cell_type": "code",
      "source": "plates.query('Metadata_PlateType==\"CRISPR\"').groupby('Metadata_Source').size().sort_values()",
      "metadata": {
        "trusted": true
      },
      "outputs": [],
      "execution_count": null
    },
    {
      "id": "55656a76-8bfe-4d53-8e89-862aadd101e7",
      "cell_type": "code",
      "source": "plates.query('Metadata_PlateType==\"ORF\"').groupby('Metadata_Source').size().sort_values()",
      "metadata": {
        "trusted": true
      },
      "outputs": [],
      "execution_count": null
    },
    {
      "id": "023a08ad-26cb-4dc1-b8f6-9ac9fb53baf0",
      "cell_type": "code",
      "source": "plates.query('Metadata_PlateType==\"DMSO\"').groupby('Metadata_Source').size().sort_values()",
      "metadata": {
        "trusted": true
      },
      "outputs": [],
      "execution_count": null
    },
    {
      "id": "cedd47ea-9199-4314-93b1-0799bf9182f4",
      "cell_type": "markdown",
      "source": "## Analysis of content",
      "metadata": {}
    },
    {
      "id": "db8029d1-2a42-4cfa-a44a-6c5467bca6cc",
      "cell_type": "code",
      "source": "plates.head()",
      "metadata": {
        "trusted": true
      },
      "outputs": [],
      "execution_count": null
    },
    {
      "id": "e23c5bcb-6363-43d2-a05a-e015acb12d45",
      "cell_type": "code",
      "source": "wells.head()",
      "metadata": {
        "trusted": true
      },
      "outputs": [],
      "execution_count": null
    },
    {
      "id": "72da7c04-91b8-4e17-83fd-ab75d6e64c75",
      "cell_type": "code",
      "source": "compound.head()",
      "metadata": {
        "trusted": true
      },
      "outputs": [],
      "execution_count": null
    },
    {
      "id": "1712ee26-1a1b-4ef7-90c7-5afed7cb5f97",
      "cell_type": "code",
      "source": "crispr.head()",
      "metadata": {
        "trusted": true
      },
      "outputs": [],
      "execution_count": null
    },
    {
      "id": "b3ad12bc-c9db-4923-8fef-fda58bf60399",
      "cell_type": "code",
      "source": "orf.head()",
      "metadata": {
        "trusted": true
      },
      "outputs": [],
      "execution_count": null
    },
    {
      "id": "954a47eb-c8bc-487e-9c95-14770f4c1887",
      "cell_type": "markdown",
      "source": "### Merging",
      "metadata": {}
    },
    {
      "id": "691b5a86-c021-4d8d-9e9f-6bc679fc6c3b",
      "cell_type": "code",
      "source": "meta = pd.merge(plates.dropna(),wells.dropna(),how='inner',on=['Metadata_Source','Metadata_Plate'])",
      "metadata": {
        "trusted": true
      },
      "outputs": [],
      "execution_count": null
    },
    {
      "id": "aea45687-e65b-4950-bc30-787a2a7bed72",
      "cell_type": "code",
      "source": "meta_compound = pd.merge(meta.dropna(),compound.dropna(),how='inner',on=['Metadata_JCP2022'])",
      "metadata": {
        "trusted": true
      },
      "outputs": [],
      "execution_count": null
    },
    {
      "id": "582065ca-5f7c-4f83-ba17-53f4fd140611",
      "cell_type": "code",
      "source": "meta_compound.columns",
      "metadata": {
        "trusted": true
      },
      "outputs": [],
      "execution_count": null
    },
    {
      "id": "19792eb1-4de0-45a3-baec-8f9f0758c00d",
      "cell_type": "code",
      "source": "meta_orf = pd.merge(meta.dropna(),orf.dropna(),how='inner',on=['Metadata_JCP2022'])",
      "metadata": {
        "trusted": true
      },
      "outputs": [],
      "execution_count": null
    },
    {
      "id": "0ceba575-5c1f-48ad-a6b8-12f66db09f56",
      "cell_type": "code",
      "source": "meta_orf.columns",
      "metadata": {
        "trusted": true
      },
      "outputs": [],
      "execution_count": null
    },
    {
      "id": "6ec820e9-ca3c-47ba-8a03-3d55a8accbde",
      "cell_type": "code",
      "source": "meta_crispr = pd.merge(meta.dropna(),crispr.dropna(),how='inner',on=['Metadata_JCP2022'])",
      "metadata": {
        "trusted": true
      },
      "outputs": [],
      "execution_count": null
    },
    {
      "id": "54313123-2732-444b-b68d-4491e840ecfd",
      "cell_type": "code",
      "source": "meta_crispr.columns",
      "metadata": {
        "trusted": true
      },
      "outputs": [],
      "execution_count": null
    },
    {
      "id": "c87c40fa-55d7-4456-8f1b-2ece7b8914ff",
      "cell_type": "markdown",
      "source": "### Analysis",
      "metadata": {}
    },
    {
      "id": "5f732b69-53eb-4d8f-8231-bcb19266b053",
      "cell_type": "code",
      "source": "pd.merge(meta_compound,jump_moa.dropna(subset=['InChIKey']),left_on=['Metadata_InChIKey'],right_on=['InChIKey'],how='inner')",
      "metadata": {
        "trusted": true
      },
      "outputs": [],
      "execution_count": null
    },
    {
      "id": "68028f54-906b-4c15-b25d-dd9113b9ebb2",
      "cell_type": "markdown",
      "source": "## jump_moa",
      "metadata": {}
    },
    {
      "id": "4f05fdda-adcd-4b6b-9842-95d04a2b9b29",
      "cell_type": "code",
      "source": "counts = pd.merge(meta_compound, jump_moa.dropna(subset=['InChIKey']), left_on=['Metadata_InChIKey'], right_on=['InChIKey'], how='inner').groupby('Metadata_InChIKey').size().sort_values(ascending=False)\n\nfor inchi_key, count in counts.items():\n    print(f\"{inchi_key}: {count}\")",
      "metadata": {
        "scrolled": true,
        "trusted": true
      },
      "outputs": [],
      "execution_count": null
    },
    {
      "id": "1ec556b6-33d9-4696-a835-314bdc378acb",
      "cell_type": "code",
      "source": "df_jump_moa = pd.merge(meta_compound, jump_moa.dropna(subset=['InChIKey']), left_on=['Metadata_InChIKey'], right_on=['InChIKey'], how='inner')",
      "metadata": {
        "trusted": true
      },
      "outputs": [],
      "execution_count": null
    },
    {
      "id": "e0c3395b-5b89-430b-a85d-bd7266c3cf0c",
      "cell_type": "code",
      "source": "df_jump_moa.moa.unique()",
      "metadata": {
        "trusted": true
      },
      "outputs": [],
      "execution_count": null
    },
    {
      "id": "a7ebf112-63ea-4071-887d-201b84166f0f",
      "cell_type": "code",
      "source": "df_jump_moa.groupby('moa').size().sort_values(ascending=False)[df_jump_moa.groupby('moa').size().sort_values(ascending=False)>100].index.values",
      "metadata": {
        "trusted": true
      },
      "outputs": [],
      "execution_count": null
    },
    {
      "id": "fb67eb3e-6085-4717-951d-0c4a100c7262",
      "cell_type": "code",
      "source": "df_jump_moa_selected = df_jump_moa[df_jump_moa.moa.isin(df_jump_moa.groupby('moa').size().sort_values(ascending=False)[df_jump_moa.groupby('moa').size().sort_values(ascending=False)>100].index.values)].groupby('Metadata_InChIKey').size().sort_values(ascending=False).index.values",
      "metadata": {
        "trusted": true
      },
      "outputs": [],
      "execution_count": null
    },
    {
      "id": "3b5617d9-c667-4c0c-8156-2ab5cefad6bd",
      "cell_type": "code",
      "source": "df_jump_moa_selected",
      "metadata": {
        "trusted": true
      },
      "outputs": [],
      "execution_count": null
    },
    {
      "id": "adc5015a-241b-4e4a-a174-245673463296",
      "cell_type": "code",
      "source": "df_jump_moa[df_jump_moa.Metadata_InChIKey.isin(df_jump_moa_selected)]",
      "metadata": {
        "trusted": true
      },
      "outputs": [],
      "execution_count": null
    },
    {
      "id": "c1323ffd-b69a-4fc3-ab66-16383da65877",
      "cell_type": "markdown",
      "source": "## jump_target1_compound",
      "metadata": {}
    },
    {
      "id": "a33588da-90ca-49b8-90da-9496afe5e1f5",
      "cell_type": "code",
      "source": "counts = pd.merge(meta_compound, jump_target1_compound.dropna(subset=['InChIKey']), left_on=['Metadata_InChIKey'], right_on=['InChIKey'], how='inner').groupby('Metadata_InChIKey').size().sort_values(ascending=False)\n\nfor inchi_key, count in counts.items():\n    print(f\"{inchi_key}: {count}\")",
      "metadata": {
        "scrolled": true,
        "trusted": true
      },
      "outputs": [],
      "execution_count": null
    },
    {
      "id": "79b3b170-0a08-4cc1-81fc-cfe8bf51b269",
      "cell_type": "code",
      "source": "df_jump_target1_compound = pd.merge(meta_compound, jump_target1_compound.dropna(subset=['InChIKey']), left_on=['Metadata_InChIKey'], right_on=['InChIKey'], how='inner')",
      "metadata": {
        "trusted": true
      },
      "outputs": [],
      "execution_count": null
    },
    {
      "id": "77ce6a6a-7620-43d3-995d-3dfd6d4391e8",
      "cell_type": "code",
      "source": "df_jump_target1_compound.control_type.unique()",
      "metadata": {
        "trusted": true
      },
      "outputs": [],
      "execution_count": null
    },
    {
      "id": "4a4c80a3-0462-446c-a766-3491fdc826e5",
      "cell_type": "code",
      "source": "df_jump_target1_compound[df_jump_target1_compound.control_type.isin(['negcon','poscon_diverse', 'poscon_cp', 'poscon_orf'])].groupby('Metadata_InChIKey').size().sort_values(ascending=False)",
      "metadata": {
        "scrolled": true,
        "trusted": true
      },
      "outputs": [],
      "execution_count": null
    },
    {
      "id": "ad4d31e8-6638-477d-81cd-44f30a09f036",
      "cell_type": "code",
      "source": "mask = df_jump_target1_compound[df_jump_target1_compound.control_type.isin(['negcon','poscon_diverse', 'poscon_cp', 'poscon_orf'])].groupby('Metadata_InChIKey').size().sort_values(ascending=False)>100",
      "metadata": {
        "trusted": true
      },
      "outputs": [],
      "execution_count": null
    },
    {
      "id": "46e85899-1e6c-46bf-9784-162d386abd56",
      "cell_type": "code",
      "source": "df_jump_target1_compound_selected = df_jump_target1_compound[df_jump_target1_compound.control_type.isin(['negcon','poscon_diverse', 'poscon_cp', 'poscon_orf'])].groupby('Metadata_InChIKey').size().sort_values(ascending=False).index.values[mask]",
      "metadata": {
        "trusted": true
      },
      "outputs": [],
      "execution_count": null
    },
    {
      "id": "022ce658-275d-4afa-817e-761e17fab4e3",
      "cell_type": "code",
      "source": "df_jump_target1_compound_selected",
      "metadata": {
        "trusted": true
      },
      "outputs": [],
      "execution_count": null
    },
    {
      "id": "512cd9ea-37f0-402b-85dc-c3775fb50a57",
      "cell_type": "code",
      "source": "df_jump_target1_compound[df_jump_target1_compound.Metadata_InChIKey.isin(df_jump_target1_compound_selected)]",
      "metadata": {
        "trusted": true
      },
      "outputs": [],
      "execution_count": null
    },
    {
      "id": "ae9e61a5-f05b-4511-a819-66fec735246a",
      "cell_type": "markdown",
      "source": "## jump_target1_orf",
      "metadata": {}
    },
    {
      "id": "9b8aca6d-3d33-4de9-9508-ecc2976a4d00",
      "cell_type": "code",
      "source": "counts = pd.merge(meta_orf,jump_target1_orf.dropna(subset=['broad_sample']),left_on=['Metadata_broad_sample'],right_on=['broad_sample'],how='inner').groupby('Metadata_broad_sample').size().sort_values(ascending=False)\n\nfor inchi_key, count in counts.items():\n    print(f\"{inchi_key}: {count}\")",
      "metadata": {
        "scrolled": true,
        "trusted": true
      },
      "outputs": [],
      "execution_count": null
    },
    {
      "id": "c70a6ff8-bcbf-4475-bf90-3acb22387fb2",
      "cell_type": "code",
      "source": "df_jump_target1_orf = pd.merge(meta_orf,jump_target1_orf.dropna(subset=['broad_sample']),left_on=['Metadata_broad_sample'],right_on=['broad_sample'],how='inner')",
      "metadata": {
        "trusted": true
      },
      "outputs": [],
      "execution_count": null
    },
    {
      "id": "005c9b01-e650-4f78-b232-46bc5e03637e",
      "cell_type": "code",
      "source": "df_jump_target1_orf.control_type.unique()",
      "metadata": {
        "trusted": true
      },
      "outputs": [],
      "execution_count": null
    },
    {
      "id": "355f92b5-4bda-4e24-bcda-37ad4385fdc8",
      "cell_type": "code",
      "source": "df_jump_target1_orf[df_jump_target1_orf.control_type.isin(['poscon_diverse', 'negcon', 'poscon_cp', 'poscon_orf'])].groupby('Metadata_broad_sample').size().sort_values(ascending=False)",
      "metadata": {
        "scrolled": true,
        "trusted": true
      },
      "outputs": [],
      "execution_count": null
    },
    {
      "id": "1cc2b16f-3a47-4367-b5f4-1df93f8a6665",
      "cell_type": "code",
      "source": "mask = df_jump_target1_orf[df_jump_target1_orf.control_type.isin(['poscon_diverse', 'negcon', 'poscon_cp', 'poscon_orf'])].groupby('Metadata_broad_sample').size().sort_values(ascending=False)>100",
      "metadata": {
        "trusted": true
      },
      "outputs": [],
      "execution_count": null
    },
    {
      "id": "d6c81669-f3d9-4d8c-84b5-1be5c7bd7f58",
      "cell_type": "code",
      "source": "df_jump_target1_orf_selected = df_jump_target1_orf[df_jump_target1_orf.control_type.isin(['poscon_diverse', 'negcon', 'poscon_cp', 'poscon_orf'])].groupby('Metadata_broad_sample').size().sort_values(ascending=False).index.values[mask]",
      "metadata": {
        "trusted": true
      },
      "outputs": [],
      "execution_count": null
    },
    {
      "id": "60f4cae0-e4f0-4b84-ae90-424d0c89f296",
      "cell_type": "code",
      "source": "df_jump_target1_orf_selected",
      "metadata": {
        "trusted": true
      },
      "outputs": [],
      "execution_count": null
    },
    {
      "id": "3d88537e-1ed9-440e-b921-a4d40dd48140",
      "cell_type": "code",
      "source": "df_jump_target1_orf[df_jump_target1_orf.Metadata_broad_sample.isin(df_jump_target1_orf_selected)]",
      "metadata": {
        "trusted": true
      },
      "outputs": [],
      "execution_count": null
    },
    {
      "id": "33eea25a-b26c-42ec-b0f8-a81b59e3d475",
      "cell_type": "markdown",
      "source": "## jump_target2",
      "metadata": {}
    },
    {
      "id": "1fb32ab2-1542-4e33-bb0e-bff6478b6570",
      "cell_type": "code",
      "source": "counts = pd.merge(meta_compound,jump_target2.dropna(subset=['InChIKey']),left_on=['Metadata_InChIKey'],right_on=['InChIKey'],how='inner').groupby('Metadata_InChIKey').size().sort_values(ascending=False)\ndict = {}\nfor inchi_key, count in counts.items():\n    dict[inchi_key] = count\n    print(f\"{inchi_key}: {count}\")",
      "metadata": {
        "scrolled": true,
        "trusted": true
      },
      "outputs": [],
      "execution_count": null
    },
    {
      "id": "1a26a46b-9b0d-4599-96d2-047551048eb5",
      "cell_type": "code",
      "source": "dict['MTJHLONVHHPNSI-UHFFFAOYSA-N']",
      "metadata": {
        "trusted": true
      },
      "outputs": [],
      "execution_count": null
    },
    {
      "id": "253c63b9-4f4f-4022-aa8d-c36f47abb851",
      "cell_type": "code",
      "source": "df_jump_target2 = pd.merge(meta_compound,jump_target2.dropna(subset=['InChIKey']),left_on=['Metadata_InChIKey'],right_on=['InChIKey'],how='inner')",
      "metadata": {
        "trusted": true
      },
      "outputs": [],
      "execution_count": null
    },
    {
      "id": "cac85809-ada1-4a6d-b269-3f88674bd4e0",
      "cell_type": "code",
      "source": "df_jump_target2.control_type.unique()",
      "metadata": {
        "trusted": true
      },
      "outputs": [],
      "execution_count": null
    },
    {
      "id": "f36f934f-1aae-41e3-9acb-b5e147daff83",
      "cell_type": "code",
      "source": "df_jump_target2[df_jump_target2.control_type.isin(['poscon_diverse', 'negcon', 'poscon_cp', 'poscon_orf'])].groupby('Metadata_InChIKey').size().sort_values(ascending=False)",
      "metadata": {
        "trusted": true
      },
      "outputs": [],
      "execution_count": null
    },
    {
      "id": "d2255f52-9d8a-4ca5-bb6c-ad218a284d42",
      "cell_type": "code",
      "source": "mask = df_jump_target2[df_jump_target2.control_type.isin(['poscon_diverse', 'negcon', 'poscon_cp', 'poscon_orf'])].groupby('Metadata_InChIKey').size().sort_values(ascending=False)>100",
      "metadata": {
        "trusted": true
      },
      "outputs": [],
      "execution_count": null
    },
    {
      "id": "b803e68e-805c-4934-9c10-c9a5fe9f4193",
      "cell_type": "code",
      "source": "df_jump_target2_selected = df_jump_target2[df_jump_target2.control_type.isin(['poscon_diverse', 'negcon', 'poscon_cp', 'poscon_orf'])].groupby('Metadata_InChIKey').size().sort_values(ascending=False).index.values[mask]",
      "metadata": {
        "trusted": true
      },
      "outputs": [],
      "execution_count": null
    },
    {
      "id": "78d7dc57-2cc1-49ce-8e8e-5c21b995e2d8",
      "cell_type": "code",
      "source": "df_jump_target2[df_jump_target2.Metadata_InChIKey.isin(df_jump_target2_selected)]",
      "metadata": {
        "trusted": true
      },
      "outputs": [],
      "execution_count": null
    },
    {
      "id": "2f3b0841-af19-40f7-8b83-20fe84d954ea",
      "cell_type": "markdown",
      "source": "## Retrieving Compounds name and df",
      "metadata": {}
    },
    {
      "id": "399e1d3d-d641-49a9-bd95-2aae3066e2ad",
      "cell_type": "code",
      "source": "import re",
      "metadata": {
        "trusted": true
      },
      "outputs": [],
      "execution_count": null
    },
    {
      "id": "ed9bb43e-4d83-442e-9290-dbff6f35a83c",
      "cell_type": "code",
      "source": "sub_df_jump_moa = df_jump_moa[df_jump_moa.Metadata_InChIKey.isin(df_jump_moa_selected)]\nsub_df_jump_target1_compound = df_jump_target1_compound[df_jump_target1_compound.Metadata_InChIKey.isin(df_jump_target1_compound_selected)]\nsub_df_jump_target2 = df_jump_target2[df_jump_target2.Metadata_InChIKey.isin(df_jump_target2_selected)]",
      "metadata": {
        "trusted": true
      },
      "outputs": [],
      "execution_count": null
    },
    {
      "id": "64ed6f79-5f7a-4e9f-ab7e-c036542d9786",
      "cell_type": "code",
      "source": "def add_metadata_prefix(df):\n    \"\"\"\n    Adds the prefix 'Metadata_' to the column names of a DataFrame that do not already have it.\n    \n    Args:\n        df (pandas.DataFrame): The input DataFrame.\n        \n    Returns:\n        pandas.DataFrame: A new DataFrame with the column names updated.\n    \"\"\"\n    # Get the list of columns that do not start with 'Metadata_'\n    cols_to_rename = [col for col in df.columns if not col.startswith('Metadata_')]\n    \n    # Create a dictionary mapping the old column names to the new ones\n    rename_dict = {col: 'Metadata_' + col for col in cols_to_rename}\n    \n    # Rename the columns using the dictionary\n    df_renamed = df.rename(columns=rename_dict)\n    \n    return df_renamed",
      "metadata": {
        "trusted": true
      },
      "outputs": [],
      "execution_count": null
    },
    {
      "id": "e365439c-2e18-47d2-ae76-f63900d7b9cc",
      "cell_type": "code",
      "source": "sub_df_jump_moa = add_metadata_prefix(sub_df_jump_moa)\nsub_df_jump_target1_compound = add_metadata_prefix(sub_df_jump_target1_compound)\nsub_df_jump_target2 = add_metadata_prefix(sub_df_jump_target2)",
      "metadata": {
        "trusted": true
      },
      "outputs": [],
      "execution_count": null
    },
    {
      "id": "45e7acdf-7abf-4dbe-9554-1d42973b523d",
      "cell_type": "code",
      "source": "sub_df_jump_moa.columns",
      "metadata": {
        "trusted": true
      },
      "outputs": [],
      "execution_count": null
    },
    {
      "id": "b283b369-4a55-49bc-a660-d74758dced7b",
      "cell_type": "code",
      "source": "sub_df_jump_target1_compound.columns",
      "metadata": {
        "trusted": true
      },
      "outputs": [],
      "execution_count": null
    },
    {
      "id": "2d1bc8e5-bd24-4e42-b7dc-2f57cfc4202c",
      "cell_type": "code",
      "source": "sub_df_jump_target2.columns",
      "metadata": {
        "trusted": true
      },
      "outputs": [],
      "execution_count": null
    },
    {
      "id": "91935c2a-3acc-418a-afe3-2aba67927874",
      "cell_type": "code",
      "source": "data_interest = pd.concat([sub_df_jump_target1_compound,sub_df_jump_target2])",
      "metadata": {
        "trusted": true
      },
      "outputs": [],
      "execution_count": null
    },
    {
      "id": "48e53d63-c8d6-4dfe-8614-877ed5f6ccd3",
      "cell_type": "code",
      "source": "data_interest",
      "metadata": {
        "trusted": true
      },
      "outputs": [],
      "execution_count": null
    },
    {
      "id": "43601f54-7a79-43cf-842f-fc2ea7fa4f4c",
      "cell_type": "code",
      "source": "data_interest['Metadata_moa'] = np.nan",
      "metadata": {
        "trusted": true
      },
      "outputs": [],
      "execution_count": null
    },
    {
      "id": "7b3b0a69-524a-414c-911b-935b9a3edadd",
      "cell_type": "code",
      "source": "def make_unique_columns(columns):\n    seen = {}\n    new_columns = []\n    for col in columns:\n        if col in seen:\n            seen[col] += 1\n            new_columns.append(f\"{col}{seen[col]}\")\n        else:\n            seen[col] = 0\n            new_columns.append(col)\n    return new_columns",
      "metadata": {
        "trusted": true
      },
      "outputs": [],
      "execution_count": null
    },
    {
      "id": "abc0395f-ad33-4e09-b655-5559d3214164",
      "cell_type": "code",
      "source": "def remove_numbered_columns(df):\n    # Create a list of column names without numbers\n    clean_columns = [col for col in df.columns if not re.search(r'\\d', col)]\n    \n    # Return a new DataFrame with only the clean columns\n    return df[clean_columns]",
      "metadata": {
        "trusted": true
      },
      "outputs": [],
      "execution_count": null
    },
    {
      "id": "8c6523a7-c626-421e-a8b3-42b6554f7e26",
      "cell_type": "code",
      "source": "data_interest.columns = make_unique_columns(data_interest.columns)\ndata_interest = remove_numbered_columns(data_interest)",
      "metadata": {
        "trusted": true
      },
      "outputs": [],
      "execution_count": null
    },
    {
      "id": "0708aba3-816c-420a-8ee9-754c6e557373",
      "cell_type": "code",
      "source": "sub_df_jump_moa.columns = make_unique_columns(sub_df_jump_moa.columns)\nsub_df_jump_moa = remove_numbered_columns(sub_df_jump_moa)",
      "metadata": {
        "trusted": true
      },
      "outputs": [],
      "execution_count": null
    },
    {
      "id": "64c0affa-a75b-4199-8137-9e66fd6b51be",
      "cell_type": "code",
      "source": "sub_df_jump_moa['Metadata_target'] = np.nan",
      "metadata": {
        "trusted": true
      },
      "outputs": [],
      "execution_count": null
    },
    {
      "id": "33c52161-84ab-46bf-9dbf-0ad8acf4f1c4",
      "cell_type": "code",
      "source": "sub_df_jump_moa = sub_df_jump_moa.reindex(columns=data_interest.columns)",
      "metadata": {
        "trusted": true
      },
      "outputs": [],
      "execution_count": null
    },
    {
      "id": "a2438e88-df81-4ead-bc86-8286f77e299e",
      "cell_type": "code",
      "source": "data_interest = pd.concat([data_interest,sub_df_jump_moa])",
      "metadata": {
        "trusted": true
      },
      "outputs": [],
      "execution_count": null
    },
    {
      "id": "9cf375f1-118c-47eb-a4f8-ca43bf5f9287",
      "cell_type": "markdown",
      "source": "# Final DF",
      "metadata": {}
    },
    {
      "id": "0c4bbef8-7945-4851-aa1e-e247756324b8",
      "cell_type": "code",
      "source": "ewrwerewr",
      "metadata": {
        "trusted": true
      },
      "outputs": [],
      "execution_count": null
    },
    {
      "id": "db4896b0-266d-4a9e-ae0b-ef9067578224",
      "cell_type": "code",
      "source": "data_interest",
      "metadata": {
        "trusted": true
      },
      "outputs": [],
      "execution_count": null
    },
    {
      "id": "08613f7e-6304-406b-810c-158a0efa4cfa",
      "cell_type": "code",
      "source": "data_interest.to_csv('../data/metadata/metadata_compound_of_interest.csv',index=False)",
      "metadata": {
        "trusted": true
      },
      "outputs": [],
      "execution_count": null
    },
    {
      "id": "a512a7bc-0634-477e-9316-9b9551ede031",
      "cell_type": "code",
      "source": "df_load_check = pd.read_csv('../data/metadata/metadata_compound_of_interest.csv', dtype=str)",
      "metadata": {
        "trusted": true
      },
      "outputs": [],
      "execution_count": null
    },
    {
      "id": "04eba665-8563-45a7-b56d-6c093aa99961",
      "cell_type": "code",
      "source": "df_load_check",
      "metadata": {
        "trusted": true
      },
      "outputs": [],
      "execution_count": null
    },
    {
      "id": "e3282a98-c4bf-4437-9c07-e3fba6606619",
      "cell_type": "code",
      "source": "df_load_check.groupby('Metadata_control_type').size()",
      "metadata": {
        "trusted": true
      },
      "outputs": [],
      "execution_count": null
    },
    {
      "id": "642f9e56-4dcd-4023-8966-0ce1586be39f",
      "cell_type": "code",
      "source": "df_load_check[df_load_check.Metadata_control_type=='poscon_diverse']",
      "metadata": {
        "trusted": true
      },
      "outputs": [],
      "execution_count": null
    },
    {
      "id": "ca812ac0-8073-4d74-8ee2-fa070f0d5f48",
      "cell_type": "code",
      "source": "df_load_check[df_load_check.Metadata_control_type=='poscon_diverse'].Metadata_InChIKey.unique()",
      "metadata": {
        "trusted": true
      },
      "outputs": [],
      "execution_count": null
    },
    {
      "id": "e0237df9-5bc1-4acb-b72f-38cdda3eab68",
      "cell_type": "code",
      "source": "df_load_check[df_load_check.Metadata_control_type=='poscon_diverse'].Metadata_target.unique()",
      "metadata": {
        "trusted": true
      },
      "outputs": [],
      "execution_count": null
    },
    {
      "id": "fbf85bcf-4cdb-40b3-9e57-8d13474bf429",
      "cell_type": "code",
      "source": "df_load_check[(df_load_check.Metadata_control_type=='poscon_diverse') & (df_load_check.Metadata_target=='CHEK2')].Metadata_InChIKey.unique()",
      "metadata": {
        "trusted": true
      },
      "outputs": [],
      "execution_count": null
    },
    {
      "id": "57b900e1-ddd6-4401-a403-6d74f0150c95",
      "cell_type": "code",
      "source": "jump_target1_compound[jump_target1_compound.control_type=='poscon_diverse'].InChIKey.unique()",
      "metadata": {
        "trusted": true
      },
      "outputs": [],
      "execution_count": null
    },
    {
      "id": "5550b456-5bc3-4224-a2c9-168585864f65",
      "cell_type": "code",
      "source": "jump_target1_compound[jump_target1_compound.control_type=='poscon_diverse'].target.unique()",
      "metadata": {
        "trusted": true
      },
      "outputs": [],
      "execution_count": null
    },
    {
      "id": "c95edf6f-c878-4eba-b11c-ce608275d568",
      "cell_type": "code",
      "source": "jump_target1_compound[(jump_target1_compound.control_type=='poscon_diverse') & (jump_target1_compound.target=='PLK1')].InChIKey.unique()",
      "metadata": {
        "trusted": true
      },
      "outputs": [],
      "execution_count": null
    },
    {
      "id": "b096b717-20d7-4b67-bade-04a375f0afcd",
      "cell_type": "markdown",
      "source": "# Data Selection",
      "metadata": {}
    },
    {
      "id": "e20856be-7036-4f1c-bc64-10a9ab095c33",
      "cell_type": "code",
      "source": "df_load_check",
      "metadata": {
        "trusted": true
      },
      "outputs": [],
      "execution_count": null
    },
    {
      "id": "f5885ce5-2e89-40ce-890b-aad520c77bce",
      "cell_type": "code",
      "source": "df_load_check.Metadata_control_type.unique()",
      "metadata": {
        "trusted": true
      },
      "outputs": [],
      "execution_count": null
    },
    {
      "id": "17d29945-97b8-41ee-a0a1-b04da5944726",
      "cell_type": "code",
      "source": "poscon_cp_InChIKey = df_load_check[df_load_check.Metadata_control_type == 'poscon_cp'].Metadata_InChIKey.unique()",
      "metadata": {
        "trusted": true
      },
      "outputs": [],
      "execution_count": null
    },
    {
      "id": "07412624-ad92-431d-9313-91887d67a246",
      "cell_type": "code",
      "source": "np.savetxt(\"../data/metadata/poscon_cp_InChIKey.txt\", poscon_cp_InChIKey, fmt=\"%s\")",
      "metadata": {
        "trusted": true
      },
      "outputs": [],
      "execution_count": null
    },
    {
      "id": "39bd1913-f289-45a7-b34f-75859c2baf73",
      "cell_type": "code",
      "source": "known_moa_InChIKey = df_load_check[~df_load_check.Metadata_moa.isna()].Metadata_InChIKey.unique()",
      "metadata": {
        "trusted": true
      },
      "outputs": [],
      "execution_count": null
    },
    {
      "id": "be9b2315-83dc-4394-8725-38b6091fef7f",
      "cell_type": "code",
      "source": "np.savetxt(\"../data/metadata/known_moa_InChIKey.txt\", known_moa_InChIKey, fmt=\"%s\")",
      "metadata": {
        "trusted": true
      },
      "outputs": [],
      "execution_count": null
    },
    {
      "id": "c202101d-a50a-47f8-a234-dc1cfad71558",
      "cell_type": "code",
      "source": "len(poscon_cp_InChIKey) + len(known_moa_InChIKey)",
      "metadata": {
        "trusted": true
      },
      "outputs": [],
      "execution_count": null
    },
    {
      "id": "139559d8-1592-4cec-8805-4768df885cab",
      "cell_type": "code",
      "source": "len(list(set(list(poscon_cp_InChIKey)+list(known_moa_InChIKey))))",
      "metadata": {
        "trusted": true
      },
      "outputs": [],
      "execution_count": null
    },
    {
      "id": "8517b559-9527-4fc9-aec1-b432222afcee",
      "cell_type": "code",
      "source": "",
      "metadata": {
        "trusted": true
      },
      "outputs": [],
      "execution_count": null
    }
  ]
}